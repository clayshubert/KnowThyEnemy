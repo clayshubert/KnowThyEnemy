{
 "cells": [
  {
   "cell_type": "code",
   "execution_count": 3,
   "id": "2346c218",
   "metadata": {},
   "outputs": [
    {
     "name": "stdout",
     "output_type": "stream",
     "text": [
      "Defaulting to user installation because normal site-packages is not writeable\n",
      "Collecting OTXv2\n",
      "  Downloading OTXv2-1.5.12-py3-none-any.whl (16 kB)\n",
      "Requirement already satisfied: requests in /usr/local/lib/python3.8/dist-packages (from OTXv2) (2.27.1)\n",
      "Requirement already satisfied: python-dateutil in /usr/local/lib/python3.8/dist-packages (from OTXv2) (2.8.2)\n",
      "Requirement already satisfied: pytz in /usr/local/lib/python3.8/dist-packages (from OTXv2) (2021.3)\n",
      "Requirement already satisfied: six>=1.5 in /usr/lib/python3/dist-packages (from python-dateutil->OTXv2) (1.14.0)\n",
      "Requirement already satisfied: certifi>=2017.4.17 in /usr/lib/python3/dist-packages (from requests->OTXv2) (2019.11.28)\n",
      "Requirement already satisfied: urllib3<1.27,>=1.21.1 in /usr/lib/python3/dist-packages (from requests->OTXv2) (1.25.8)\n",
      "Requirement already satisfied: idna<4,>=2.5 in /usr/lib/python3/dist-packages (from requests->OTXv2) (2.8)\n",
      "Requirement already satisfied: charset-normalizer~=2.0.0 in /usr/local/lib/python3.8/dist-packages (from requests->OTXv2) (2.0.11)\n",
      "Installing collected packages: OTXv2\n",
      "Successfully installed OTXv2-1.5.12\n",
      "\u001b[33mWARNING: You are using pip version 22.0.3; however, version 23.3.1 is available.\n",
      "You should consider upgrading via the '/usr/bin/python3 -m pip install --upgrade pip' command.\u001b[0m\u001b[33m\n",
      "\u001b[0mNote: you may need to restart the kernel to use updated packages.\n"
     ]
    }
   ],
   "source": [
    "pip install OTXv2"
   ]
  },
  {
   "cell_type": "code",
   "execution_count": 1,
   "id": "f8c21478",
   "metadata": {},
   "outputs": [],
   "source": [
    "from OTXv2 import OTXv2, IndicatorTypes\n",
    "from pandas.io.json import json_normalize\n",
    "from datetime import datetime, timedelta\n",
    "\n",
    "otx = OTXv2(\"bf3bfab146b2c96defe84b595d0c0a97487b7cb02871c2632359a76a0120254a\")"
   ]
  },
  {
   "cell_type": "code",
   "execution_count": null,
   "id": "6acab972",
   "metadata": {},
   "outputs": [],
   "source": [
    "pulses = otx.getall()\n"
   ]
  },
  {
   "cell_type": "code",
   "execution_count": null,
   "id": "6397dce9",
   "metadata": {},
   "outputs": [],
   "source": [
    "for pulse in pulses:\n",
    "  indicators = otx.getindicators(pulse['id'])\n"
   ]
  },
  {
   "cell_type": "code",
   "execution_count": null,
   "id": "574123a0",
   "metadata": {},
   "outputs": [],
   "source": [
    "import pandas as pd\n",
    "\n",
    "indicators_df = json_normalize(indicators)\n"
   ]
  },
  {
   "cell_type": "code",
   "execution_count": null,
   "id": "f3b07cba",
   "metadata": {},
   "outputs": [],
   "source": [
    "country_of_origin_column = indicators_df['location.country_name']"
   ]
  },
  {
   "cell_type": "code",
   "execution_count": null,
   "id": "25d74b94",
   "metadata": {},
   "outputs": [],
   "source": [
    "country_of_origin_counts = country_of_origin_column.value_counts()"
   ]
  },
  {
   "cell_type": "code",
   "execution_count": null,
   "id": "f3b9c002",
   "metadata": {},
   "outputs": [],
   "source": [
    "print(country_of_origin_counts)"
   ]
  },
  {
   "cell_type": "code",
   "execution_count": null,
   "id": "fc50651b",
   "metadata": {},
   "outputs": [],
   "source": []
  }
 ],
 "metadata": {
  "kernelspec": {
   "display_name": "Python 3 (ipykernel)",
   "language": "python",
   "name": "python3"
  },
  "language_info": {
   "codemirror_mode": {
    "name": "ipython",
    "version": 3
   },
   "file_extension": ".py",
   "mimetype": "text/x-python",
   "name": "python",
   "nbconvert_exporter": "python",
   "pygments_lexer": "ipython3",
   "version": "3.8.10"
  }
 },
 "nbformat": 4,
 "nbformat_minor": 5
}
