{
 "cells": [
  {
   "cell_type": "code",
   "execution_count": 1,
   "metadata": {},
   "outputs": [],
   "source": [
    "import dotenv\n",
    "import os\n",
    "import requests\n",
    "import pandas as pd\n",
    "\n",
    "dotenv.load_dotenv('.env')\n",
    "\n",
    "alien_vault_api_key = os.getenv('AlienVault_API_Key')\n",
    "virus_total_api_key = os.getenv('VirusTotal_API_Key')\n",
    "abuse_ipdb_api_key = os.getenv('AbuseIPDB_API_Key')\n",
    "urlhaus_api_key = os.getenv('URLHaus_API_Key')"
   ]
  },
  {
   "cell_type": "code",
   "execution_count": 2,
   "metadata": {},
   "outputs": [],
   "source": [
    "import pandas as pd\n",
    "import numpy as np\n",
    "import json"
   ]
  },
  {
   "cell_type": "code",
   "execution_count": 3,
   "metadata": {},
   "outputs": [
    {
     "name": "stdout",
     "output_type": "stream",
     "text": [
      "                     dateadded  \\\n",
      "0      2023-12-04 18:03:34 UTC   \n",
      "1      2023-12-04 17:37:07 UTC   \n",
      "2      2023-12-04 17:21:07 UTC   \n",
      "3      2023-12-04 17:16:06 UTC   \n",
      "4      2023-12-04 17:15:09 UTC   \n",
      "...                        ...   \n",
      "28830  2019-02-10 11:33:07 UTC   \n",
      "28831  2019-02-05 20:10:03 UTC   \n",
      "28832  2019-01-02 10:53:06 UTC   \n",
      "28833  2018-08-14 04:27:04 UTC   \n",
      "28834  2018-05-26 16:46:09 UTC   \n",
      "\n",
      "                                                     url url_status  \\\n",
      "0                     http://200.59.107.164:49044/Mozi.m    offline   \n",
      "1           http://91.92.250.161/files/InstallSetup2.exe     online   \n",
      "2                     https://textbin.net/raw/ld17s2rgt9     online   \n",
      "3                         http://178.141.200.237:54754/i     online   \n",
      "4                               https://paste.ee/d/cTTn1    offline   \n",
      "...                                                  ...        ...   \n",
      "28830  http://down.pcclear.com/active/PCclear_Eng_min...     online   \n",
      "28831  http://azmeasurement.com/SWIFT-COPY-MT103-PAYM...     online   \n",
      "28832  http://livetrack.in/EmployeeMasterImages/qace.jpg     online   \n",
      "28833  http://pink99.com/logsite/0LDDOC/TKA1833163913...     online   \n",
      "28834  http://lameguard.ru/interlude-online/ru/system...     online   \n",
      "\n",
      "                   last_online            threat  \\\n",
      "0                         None  malware_download   \n",
      "1      2023-12-04 18:32:47 UTC  malware_download   \n",
      "2      2023-12-04 18:29:45 UTC  malware_download   \n",
      "3      2023-12-04 18:26:03 UTC  malware_download   \n",
      "4      2023-12-04 17:15:09 UTC  malware_download   \n",
      "...                        ...               ...   \n",
      "28830  2023-12-04 18:23:44 UTC  malware_download   \n",
      "28831  2023-12-04 18:39:40 UTC  malware_download   \n",
      "28832  2023-12-04 18:38:40 UTC  malware_download   \n",
      "28833  2023-12-04 18:34:22 UTC  malware_download   \n",
      "28834  2023-12-04 18:30:59 UTC  malware_download   \n",
      "\n",
      "                                               tags  \\\n",
      "0                                            [Mozi]   \n",
      "1      [dropped-by-PrivateLoader, glupteba, Stealc]   \n",
      "2                            [AsyncRAT, dcrat, exe]   \n",
      "3                         [32-bit, elf, mips, Mozi]   \n",
      "4                                      [AgentTesla]   \n",
      "...                                             ...   \n",
      "28830                                         [exe]   \n",
      "28831                               [Formbook, zip]   \n",
      "28832                        [arkei, Encoded, Task]   \n",
      "28833                          [doc, emotet, heodo]   \n",
      "28834                                        [Pony]   \n",
      "\n",
      "                                urlhaus_link       reporter  \n",
      "0      https://urlhaus.abuse.ch/url/2737345/     Gandylyan1  \n",
      "1      https://urlhaus.abuse.ch/url/2737344/   andretavare5  \n",
      "2      https://urlhaus.abuse.ch/url/2737343/        pmelson  \n",
      "3      https://urlhaus.abuse.ch/url/2737342/       geenensp  \n",
      "4      https://urlhaus.abuse.ch/url/2737340/       abuse_ch  \n",
      "...                                      ...            ...  \n",
      "28830   https://urlhaus.abuse.ch/url/121029/    zbetcheckin  \n",
      "28831   https://urlhaus.abuse.ch/url/117832/    zbetcheckin  \n",
      "28832   https://urlhaus.abuse.ch/url/101043/      anonymous  \n",
      "28833    https://urlhaus.abuse.ch/url/42375/  Cryptolaemus1  \n",
      "28834    https://urlhaus.abuse.ch/url/12769/    lovemalware  \n",
      "\n",
      "[28835 rows x 8 columns]\n"
     ]
    }
   ],
   "source": [
    "with open('urlhaus_full.json') as file:\n",
    "    data = json.load(file)\n",
    "\n",
    "frames = [pd.json_normalize(data[key]) for key in data]\n",
    "result_df = pd.concat(frames, ignore_index=True)\n",
    "\n",
    "print(result_df)"
   ]
  },
  {
   "cell_type": "code",
   "execution_count": 4,
   "metadata": {},
   "outputs": [
    {
     "name": "stdout",
     "output_type": "stream",
     "text": [
      "                     dateadded  \\\n",
      "1      2023-12-04 17:37:07 UTC   \n",
      "2      2023-12-04 17:21:07 UTC   \n",
      "3      2023-12-04 17:16:06 UTC   \n",
      "5      2023-12-04 17:15:09 UTC   \n",
      "7      2023-12-04 17:14:05 UTC   \n",
      "...                        ...   \n",
      "28830  2019-02-10 11:33:07 UTC   \n",
      "28831  2019-02-05 20:10:03 UTC   \n",
      "28832  2019-01-02 10:53:06 UTC   \n",
      "28833  2018-08-14 04:27:04 UTC   \n",
      "28834  2018-05-26 16:46:09 UTC   \n",
      "\n",
      "                                                     url url_status  \\\n",
      "1           http://91.92.250.161/files/InstallSetup2.exe     online   \n",
      "2                     https://textbin.net/raw/ld17s2rgt9     online   \n",
      "3                         http://178.141.200.237:54754/i     online   \n",
      "5      https://vk.com/doc418490229_669179536?hash=vKv...     online   \n",
      "7                    https://www.encurtador.com.br/twzQS     online   \n",
      "...                                                  ...        ...   \n",
      "28830  http://down.pcclear.com/active/PCclear_Eng_min...     online   \n",
      "28831  http://azmeasurement.com/SWIFT-COPY-MT103-PAYM...     online   \n",
      "28832  http://livetrack.in/EmployeeMasterImages/qace.jpg     online   \n",
      "28833  http://pink99.com/logsite/0LDDOC/TKA1833163913...     online   \n",
      "28834  http://lameguard.ru/interlude-online/ru/system...     online   \n",
      "\n",
      "                   last_online            threat  \\\n",
      "1      2023-12-04 18:32:47 UTC  malware_download   \n",
      "2      2023-12-04 18:29:45 UTC  malware_download   \n",
      "3      2023-12-04 18:26:03 UTC  malware_download   \n",
      "5      2023-12-04 18:34:08 UTC  malware_download   \n",
      "7      2023-12-04 18:37:23 UTC  malware_download   \n",
      "...                        ...               ...   \n",
      "28830  2023-12-04 18:23:44 UTC  malware_download   \n",
      "28831  2023-12-04 18:39:40 UTC  malware_download   \n",
      "28832  2023-12-04 18:38:40 UTC  malware_download   \n",
      "28833  2023-12-04 18:34:22 UTC  malware_download   \n",
      "28834  2023-12-04 18:30:59 UTC  malware_download   \n",
      "\n",
      "                                               tags  \\\n",
      "1      [dropped-by-PrivateLoader, glupteba, Stealc]   \n",
      "2                            [AsyncRAT, dcrat, exe]   \n",
      "3                         [32-bit, elf, mips, Mozi]   \n",
      "5             [dropped-by-PrivateLoader, encrypted]   \n",
      "7                      [rat, redir-302, RevengeRAT]   \n",
      "...                                             ...   \n",
      "28830                                         [exe]   \n",
      "28831                               [Formbook, zip]   \n",
      "28832                        [arkei, Encoded, Task]   \n",
      "28833                          [doc, emotet, heodo]   \n",
      "28834                                        [Pony]   \n",
      "\n",
      "                                urlhaus_link       reporter  \n",
      "1      https://urlhaus.abuse.ch/url/2737344/   andretavare5  \n",
      "2      https://urlhaus.abuse.ch/url/2737343/        pmelson  \n",
      "3      https://urlhaus.abuse.ch/url/2737342/       geenensp  \n",
      "5      https://urlhaus.abuse.ch/url/2737341/   andretavare5  \n",
      "7      https://urlhaus.abuse.ch/url/2737338/       abuse_ch  \n",
      "...                                      ...            ...  \n",
      "28830   https://urlhaus.abuse.ch/url/121029/    zbetcheckin  \n",
      "28831   https://urlhaus.abuse.ch/url/117832/    zbetcheckin  \n",
      "28832   https://urlhaus.abuse.ch/url/101043/      anonymous  \n",
      "28833    https://urlhaus.abuse.ch/url/42375/  Cryptolaemus1  \n",
      "28834    https://urlhaus.abuse.ch/url/12769/    lovemalware  \n",
      "\n",
      "[2721 rows x 8 columns]\n",
      "url_status\n",
      "online    2721\n",
      "Name: count, dtype: int64\n"
     ]
    }
   ],
   "source": [
    "online_df = result_df[result_df['url_status'] == 'online']\n",
    "print(online_df)\n",
    "print(online_df['url_status'].value_counts())\n"
   ]
  },
  {
   "cell_type": "code",
   "execution_count": 5,
   "metadata": {},
   "outputs": [],
   "source": [
    "import pandas as pd\n",
    "import seaborn as sns\n",
    "import matplotlib.pyplot as plt"
   ]
  },
  {
   "cell_type": "code",
   "execution_count": 6,
   "metadata": {},
   "outputs": [
    {
     "name": "stdout",
     "output_type": "stream",
     "text": [
      "url_status                                  online\n",
      "tags_str                                          \n",
      "                                               179\n",
      " stealth, android, Metasploit                    2\n",
      " stealth, android, Metasploit, meterpreter       1\n",
      "#bash, #miner                                    1\n",
      ", 32-bit, arm, elf, hajime                       1\n",
      "...                                            ...\n",
      "vbs                                              1\n",
      "wshrat                                           1\n",
      "xlsx                                             1\n",
      "xworm                                            1\n",
      "zip                                             15\n",
      "\n",
      "[461 rows x 1 columns]\n"
     ]
    },
    {
     "name": "stderr",
     "output_type": "stream",
     "text": [
      "/var/folders/69/zjr6sjvx15s3xn7bd10595lh0000gp/T/ipykernel_74120/2318114903.py:7: SettingWithCopyWarning: \n",
      "A value is trying to be set on a copy of a slice from a DataFrame.\n",
      "Try using .loc[row_indexer,col_indexer] = value instead\n",
      "\n",
      "See the caveats in the documentation: https://pandas.pydata.org/pandas-docs/stable/user_guide/indexing.html#returning-a-view-versus-a-copy\n",
      "  online_df['tags_str'] = online_df['tags'].apply(tags_to_string)\n"
     ]
    }
   ],
   "source": [
    "def tags_to_string(tags):\n",
    "    if isinstance(tags, list):  # Check if the entry is a list\n",
    "        return ', '.join(str(tag) for tag in tags)  # Convert each tag to string and join\n",
    "    return ''  # Return empty string for non-list entries\n",
    "\n",
    "# Apply the function to the 'tags' column\n",
    "online_df['tags_str'] = online_df['tags'].apply(tags_to_string)\n",
    "\n",
    "aggregated_data = online_df.groupby(['tags_str', 'url_status']).size().reset_index(name='count')\n",
    "\n",
    "# Create a pivot table\n",
    "pivot_table = aggregated_data.pivot(index='tags_str', columns='url_status', values='count')\n",
    "\n",
    "print(pivot_table)\n",
    "\n"
   ]
  },
  {
   "cell_type": "code",
   "execution_count": null,
   "metadata": {},
   "outputs": [],
   "source": []
  }
 ],
 "metadata": {
  "kernelspec": {
   "display_name": "Python 3",
   "language": "python",
   "name": "python3"
  },
  "language_info": {
   "codemirror_mode": {
    "name": "ipython",
    "version": 3
   },
   "file_extension": ".py",
   "mimetype": "text/x-python",
   "name": "python",
   "nbconvert_exporter": "python",
   "pygments_lexer": "ipython3",
   "version": "3.11.5"
  }
 },
 "nbformat": 4,
 "nbformat_minor": 2
}
