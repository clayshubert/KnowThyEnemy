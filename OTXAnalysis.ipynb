{
 "cells": [
  {
   "cell_type": "code",
   "execution_count": 26,
   "metadata": {},
   "outputs": [
    {
     "name": "stdout",
     "output_type": "stream",
     "text": [
      "606\n",
      "9241\n"
     ]
    }
   ],
   "source": [
    "import os\n",
    "import csv\n",
    "import pandas as pd\n",
    "import requests\n",
    "import json\n",
    "from OTXv2 import OTXv2\n",
    "from OTXv2 import IndicatorTypes\n",
    "from datetime import datetime, timedelta\n",
    "from dotenv import load_dotenv\n",
    "load_dotenv()\n",
    "\n",
    "otx = OTXv2(os.environ.get('AlienVault_API_Key'))\n",
    "\n",
    "mtime = (datetime.now() - timedelta(days=7)).isoformat()\n",
    "\n",
    "#Get all pulses modified by AlienVault/AlienVaultBots in the past 3 months\n",
    "pulses = otx.getall(modified_since=mtime)\n",
    "indicators = []\n",
    "print(len(pulses))\n",
    "#Place pulse data in pd dataframe\n",
    "pulsedf = pd.DataFrame(pulses)\n",
    "#Get csv\n",
    "pulsedf.to_csv(\"pulses.csv\")\n",
    "\n",
    "#Get indicators with indicator_type=ipv4\n",
    "#Sort by threat type\n",
    "CNs = []\n",
    "legend = {\"scanning_host\":[], \"malware_hosting\":[], \"exploit_source\":[], \"command_and_control\":[]}\n",
    "for i in range(0, len(pulses)):\n",
    "    pulseindicator = pulses[i][\"indicators\"]\n",
    "    for indicator in pulseindicator:\n",
    "        if indicator[\"type\"] == \"IPv4\":\n",
    "            if indicator[\"role\"] != \"scanning_host\":\n",
    "                legend[\"scanning_host\"].append(indicator[\"indicator\"])\n",
    "            elif indicator[\"role\"] != \"malware_hosting\":\n",
    "                legend[\"malware_hosting\"].append(indicator[\"indicator\"])\n",
    "            elif indicator[\"role\"] != \"exploit_source\":\n",
    "                legend[\"exploit_source\"].append(indicator[\"indicator\"])\n",
    "            elif indicator[\"role\"] != \"command_and_control\":\n",
    "                legend[\"command_and_control\"].append(indicator[\"indicator\"])\n",
    "print(len(legend[\"scanning_host\"]))\n"
   ]
  },
  {
   "cell_type": "code",
   "execution_count": 28,
   "metadata": {},
   "outputs": [],
   "source": [
    "import pygal_maps_world.maps\n",
    "import pycountry\n",
    "from collections import Counter\n",
    "\n",
    "#Get indicator origin country\n",
    "CNs = []\n",
    "for i in range(0, len(legend[\"scanning_host\"])):\n",
    "    url = f'https://api.iplocation.net/?ip={legend[\"scanning_host\"][i]}'\n",
    "    response = requests.get(url)\n",
    "    if response.status_code == 200:\n",
    "        data = response.json()\n",
    "        # Extract the country code from the response\n",
    "        CNs.append(data.get('country_code2'))\n",
    "    else:\n",
    "        print(f\"Response code: {response.status_code}\")\n",
    "\n",
    "top10 = Counter(CNs).most_common(10)\n",
    "print(top10)\n",
    "\n",
    "list_top10 = list(top10)\n",
    "for i in range(0, len(top10)):\n",
    "    top10[i] = (top10[i][0].lower(), top10[i][1])\n",
    "\n",
    "# create a world map\n",
    "worldmap = pygal_maps_world.maps.World()\n",
    "  \n",
    "# set the title of the map\n",
    "worldmap.title = 'Top 10 Location of Reported Scanning IPs in the past week'\n",
    "  \n",
    "# adding the countries\n",
    "worldmap.add(f'1. {pycountry.countries.get(alpha_2=top10[0][0]).name}', { top10[0][0] : top10[0][1]})\n",
    "worldmap.add(f'2. {pycountry.countries.get(alpha_2=top10[1][0]).name}', { top10[1][0] : top10[1][1]})\n",
    "worldmap.add(f'3. {pycountry.countries.get(alpha_2=top10[2][0]).name}', { top10[2][0] : top10[2][1]})\n",
    "worldmap.add(f'4. {pycountry.countries.get(alpha_2=top10[3][0]).name}', { top10[3][0] : top10[3][1]})\n",
    "worldmap.add(f'5. {pycountry.countries.get(alpha_2=top10[4][0]).name}', { top10[4][0] : top10[4][1]})\n",
    "worldmap.add(f'6. {pycountry.countries.get(alpha_2=top10[5][0]).name}', { top10[5][0] : top10[5][1]})\n",
    "worldmap.add(f'7. {pycountry.countries.get(alpha_2=top10[6][0]).name}', { top10[6][0] : top10[6][1]})\n",
    "worldmap.add(f'8. {pycountry.countries.get(alpha_2=top10[7][0]).name}', { top10[7][0] : top10[7][1]})\n",
    "worldmap.add(f'9. {pycountry.countries.get(alpha_2=top10[8][0]).name}', { top10[8][0] : top10[8][1]})\n",
    "worldmap.add(f'10. {pycountry.countries.get(alpha_2=top10[9][0]).name}', { top10[9][0] : top10[9][1]})\n",
    "worldmap.render_to_file('top10scanners.svg')"
   ]
  }
 ],
 "metadata": {
  "kernelspec": {
   "display_name": "Python 3 (ipykernel)",
   "language": "python",
   "name": "python3"
  },
  "language_info": {
   "codemirror_mode": {
    "name": "ipython",
    "version": 3
   },
   "file_extension": ".py",
   "mimetype": "text/x-python",
   "name": "python",
   "nbconvert_exporter": "python",
   "pygments_lexer": "ipython3",
   "version": "3.11.3"
  },
  "orig_nbformat": 4
 },
 "nbformat": 4,
 "nbformat_minor": 2
}
